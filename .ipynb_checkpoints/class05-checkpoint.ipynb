{
 "cells": [
  {
   "cell_type": "markdown",
   "metadata": {},
   "source": [
    "## Confusion Matrix"
   ]
  },
  {
   "cell_type": "code",
   "execution_count": 3,
   "metadata": {},
   "outputs": [
    {
     "name": "stdout",
     "output_type": "stream",
     "text": [
      "{'accuracy': 0.6927083333333334, 'precision': 0.7151515151515152, 'recall': 0.9076923076923077, 'f1-score': 0.4}\n"
     ]
    }
   ],
   "source": [
    "def get_accuracy(con_matrix):\n",
    "    tp = con_matrix[0][0]\n",
    "    fn = con_matrix[0][1]\n",
    "    fp = con_matrix[1][0]\n",
    "    tn = con_matrix[1][1]\n",
    "    \n",
    "    answers = {\n",
    "        'accuracy' : (tp + tn) / (tp + fn + fp + tn),\n",
    "        'precision' : tp / (tp + fp),\n",
    "        'recall' : tp / (fn + tp),\n",
    "        'f1-score' : ((tp / (tp + fp)) * (tp / (fn + tp))) / ((tp / (tp + fp)) + (tp / (fn + tp)))\n",
    "    }\n",
    "    \n",
    "    return (answers)\n",
    "\n",
    "matrix = [[118, 12],[47, 15]]\n",
    "print(get_accuracy(matrix))"
   ]
  },
  {
   "cell_type": "code",
   "execution_count": null,
   "metadata": {},
   "outputs": [],
   "source": []
  }
 ],
 "metadata": {
  "kernelspec": {
   "display_name": "Python 3",
   "language": "python",
   "name": "python3"
  },
  "language_info": {
   "codemirror_mode": {
    "name": "ipython",
    "version": 3
   },
   "file_extension": ".py",
   "mimetype": "text/x-python",
   "name": "python",
   "nbconvert_exporter": "python",
   "pygments_lexer": "ipython3",
   "version": "3.7.1"
  }
 },
 "nbformat": 4,
 "nbformat_minor": 2
}
